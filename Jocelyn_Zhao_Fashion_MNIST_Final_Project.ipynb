{
  "nbformat": 4,
  "nbformat_minor": 0,
  "metadata": {
    "colab": {
      "name": "Jocelyn Zhao - Fashion MNIST Final Project",
      "provenance": [],
      "authorship_tag": "ABX9TyPYXAc2gGe1b27zXnsZP1oZ",
      "include_colab_link": true
    },
    "kernelspec": {
      "name": "python3",
      "display_name": "Python 3"
    },
    "language_info": {
      "name": "python"
    },
    "widgets": {
      "application/vnd.jupyter.widget-state+json": {
        "518b2605d99f420ea1c7ad99c0e4d6d9": {
          "model_module": "@jupyter-widgets/controls",
          "model_name": "HBoxModel",
          "model_module_version": "1.5.0",
          "state": {
            "_dom_classes": [],
            "_model_module": "@jupyter-widgets/controls",
            "_model_module_version": "1.5.0",
            "_model_name": "HBoxModel",
            "_view_count": null,
            "_view_module": "@jupyter-widgets/controls",
            "_view_module_version": "1.5.0",
            "_view_name": "HBoxView",
            "box_style": "",
            "children": [
              "IPY_MODEL_25f00ad67c3b488c8e27ea5576c24e1a",
              "IPY_MODEL_4392d09582fd4853aa0ba61c3c0abecc",
              "IPY_MODEL_d8742f97f3dd4074a046d1f1c2eb82e1"
            ],
            "layout": "IPY_MODEL_22d04fc265024f309a67757b8a1cb2f2"
          }
        },
        "25f00ad67c3b488c8e27ea5576c24e1a": {
          "model_module": "@jupyter-widgets/controls",
          "model_name": "HTMLModel",
          "model_module_version": "1.5.0",
          "state": {
            "_dom_classes": [],
            "_model_module": "@jupyter-widgets/controls",
            "_model_module_version": "1.5.0",
            "_model_name": "HTMLModel",
            "_view_count": null,
            "_view_module": "@jupyter-widgets/controls",
            "_view_module_version": "1.5.0",
            "_view_name": "HTMLView",
            "description": "",
            "description_tooltip": null,
            "layout": "IPY_MODEL_7805778a428b49d38e7009b3fd779b49",
            "placeholder": "​",
            "style": "IPY_MODEL_dad30eda6ee24c77aa07ddda4d4636b6",
            "value": "100%"
          }
        },
        "4392d09582fd4853aa0ba61c3c0abecc": {
          "model_module": "@jupyter-widgets/controls",
          "model_name": "FloatProgressModel",
          "model_module_version": "1.5.0",
          "state": {
            "_dom_classes": [],
            "_model_module": "@jupyter-widgets/controls",
            "_model_module_version": "1.5.0",
            "_model_name": "FloatProgressModel",
            "_view_count": null,
            "_view_module": "@jupyter-widgets/controls",
            "_view_module_version": "1.5.0",
            "_view_name": "ProgressView",
            "bar_style": "success",
            "description": "",
            "description_tooltip": null,
            "layout": "IPY_MODEL_7f7bf9d28dae4c61b80b3b30e62476f1",
            "max": 26421880,
            "min": 0,
            "orientation": "horizontal",
            "style": "IPY_MODEL_e54aa6e377524ba09ed6f8e4bfb4dafd",
            "value": 26421880
          }
        },
        "d8742f97f3dd4074a046d1f1c2eb82e1": {
          "model_module": "@jupyter-widgets/controls",
          "model_name": "HTMLModel",
          "model_module_version": "1.5.0",
          "state": {
            "_dom_classes": [],
            "_model_module": "@jupyter-widgets/controls",
            "_model_module_version": "1.5.0",
            "_model_name": "HTMLModel",
            "_view_count": null,
            "_view_module": "@jupyter-widgets/controls",
            "_view_module_version": "1.5.0",
            "_view_name": "HTMLView",
            "description": "",
            "description_tooltip": null,
            "layout": "IPY_MODEL_8d8ffb7d6ac1433faf70984d16243e2d",
            "placeholder": "​",
            "style": "IPY_MODEL_b396ccd3aaf04d2085ee9afd52917f65",
            "value": " 26421880/26421880 [00:02&lt;00:00, 18227824.51it/s]"
          }
        },
        "22d04fc265024f309a67757b8a1cb2f2": {
          "model_module": "@jupyter-widgets/base",
          "model_name": "LayoutModel",
          "model_module_version": "1.2.0",
          "state": {
            "_model_module": "@jupyter-widgets/base",
            "_model_module_version": "1.2.0",
            "_model_name": "LayoutModel",
            "_view_count": null,
            "_view_module": "@jupyter-widgets/base",
            "_view_module_version": "1.2.0",
            "_view_name": "LayoutView",
            "align_content": null,
            "align_items": null,
            "align_self": null,
            "border": null,
            "bottom": null,
            "display": null,
            "flex": null,
            "flex_flow": null,
            "grid_area": null,
            "grid_auto_columns": null,
            "grid_auto_flow": null,
            "grid_auto_rows": null,
            "grid_column": null,
            "grid_gap": null,
            "grid_row": null,
            "grid_template_areas": null,
            "grid_template_columns": null,
            "grid_template_rows": null,
            "height": null,
            "justify_content": null,
            "justify_items": null,
            "left": null,
            "margin": null,
            "max_height": null,
            "max_width": null,
            "min_height": null,
            "min_width": null,
            "object_fit": null,
            "object_position": null,
            "order": null,
            "overflow": null,
            "overflow_x": null,
            "overflow_y": null,
            "padding": null,
            "right": null,
            "top": null,
            "visibility": null,
            "width": null
          }
        },
        "7805778a428b49d38e7009b3fd779b49": {
          "model_module": "@jupyter-widgets/base",
          "model_name": "LayoutModel",
          "model_module_version": "1.2.0",
          "state": {
            "_model_module": "@jupyter-widgets/base",
            "_model_module_version": "1.2.0",
            "_model_name": "LayoutModel",
            "_view_count": null,
            "_view_module": "@jupyter-widgets/base",
            "_view_module_version": "1.2.0",
            "_view_name": "LayoutView",
            "align_content": null,
            "align_items": null,
            "align_self": null,
            "border": null,
            "bottom": null,
            "display": null,
            "flex": null,
            "flex_flow": null,
            "grid_area": null,
            "grid_auto_columns": null,
            "grid_auto_flow": null,
            "grid_auto_rows": null,
            "grid_column": null,
            "grid_gap": null,
            "grid_row": null,
            "grid_template_areas": null,
            "grid_template_columns": null,
            "grid_template_rows": null,
            "height": null,
            "justify_content": null,
            "justify_items": null,
            "left": null,
            "margin": null,
            "max_height": null,
            "max_width": null,
            "min_height": null,
            "min_width": null,
            "object_fit": null,
            "object_position": null,
            "order": null,
            "overflow": null,
            "overflow_x": null,
            "overflow_y": null,
            "padding": null,
            "right": null,
            "top": null,
            "visibility": null,
            "width": null
          }
        },
        "dad30eda6ee24c77aa07ddda4d4636b6": {
          "model_module": "@jupyter-widgets/controls",
          "model_name": "DescriptionStyleModel",
          "model_module_version": "1.5.0",
          "state": {
            "_model_module": "@jupyter-widgets/controls",
            "_model_module_version": "1.5.0",
            "_model_name": "DescriptionStyleModel",
            "_view_count": null,
            "_view_module": "@jupyter-widgets/base",
            "_view_module_version": "1.2.0",
            "_view_name": "StyleView",
            "description_width": ""
          }
        },
        "7f7bf9d28dae4c61b80b3b30e62476f1": {
          "model_module": "@jupyter-widgets/base",
          "model_name": "LayoutModel",
          "model_module_version": "1.2.0",
          "state": {
            "_model_module": "@jupyter-widgets/base",
            "_model_module_version": "1.2.0",
            "_model_name": "LayoutModel",
            "_view_count": null,
            "_view_module": "@jupyter-widgets/base",
            "_view_module_version": "1.2.0",
            "_view_name": "LayoutView",
            "align_content": null,
            "align_items": null,
            "align_self": null,
            "border": null,
            "bottom": null,
            "display": null,
            "flex": null,
            "flex_flow": null,
            "grid_area": null,
            "grid_auto_columns": null,
            "grid_auto_flow": null,
            "grid_auto_rows": null,
            "grid_column": null,
            "grid_gap": null,
            "grid_row": null,
            "grid_template_areas": null,
            "grid_template_columns": null,
            "grid_template_rows": null,
            "height": null,
            "justify_content": null,
            "justify_items": null,
            "left": null,
            "margin": null,
            "max_height": null,
            "max_width": null,
            "min_height": null,
            "min_width": null,
            "object_fit": null,
            "object_position": null,
            "order": null,
            "overflow": null,
            "overflow_x": null,
            "overflow_y": null,
            "padding": null,
            "right": null,
            "top": null,
            "visibility": null,
            "width": null
          }
        },
        "e54aa6e377524ba09ed6f8e4bfb4dafd": {
          "model_module": "@jupyter-widgets/controls",
          "model_name": "ProgressStyleModel",
          "model_module_version": "1.5.0",
          "state": {
            "_model_module": "@jupyter-widgets/controls",
            "_model_module_version": "1.5.0",
            "_model_name": "ProgressStyleModel",
            "_view_count": null,
            "_view_module": "@jupyter-widgets/base",
            "_view_module_version": "1.2.0",
            "_view_name": "StyleView",
            "bar_color": null,
            "description_width": ""
          }
        },
        "8d8ffb7d6ac1433faf70984d16243e2d": {
          "model_module": "@jupyter-widgets/base",
          "model_name": "LayoutModel",
          "model_module_version": "1.2.0",
          "state": {
            "_model_module": "@jupyter-widgets/base",
            "_model_module_version": "1.2.0",
            "_model_name": "LayoutModel",
            "_view_count": null,
            "_view_module": "@jupyter-widgets/base",
            "_view_module_version": "1.2.0",
            "_view_name": "LayoutView",
            "align_content": null,
            "align_items": null,
            "align_self": null,
            "border": null,
            "bottom": null,
            "display": null,
            "flex": null,
            "flex_flow": null,
            "grid_area": null,
            "grid_auto_columns": null,
            "grid_auto_flow": null,
            "grid_auto_rows": null,
            "grid_column": null,
            "grid_gap": null,
            "grid_row": null,
            "grid_template_areas": null,
            "grid_template_columns": null,
            "grid_template_rows": null,
            "height": null,
            "justify_content": null,
            "justify_items": null,
            "left": null,
            "margin": null,
            "max_height": null,
            "max_width": null,
            "min_height": null,
            "min_width": null,
            "object_fit": null,
            "object_position": null,
            "order": null,
            "overflow": null,
            "overflow_x": null,
            "overflow_y": null,
            "padding": null,
            "right": null,
            "top": null,
            "visibility": null,
            "width": null
          }
        },
        "b396ccd3aaf04d2085ee9afd52917f65": {
          "model_module": "@jupyter-widgets/controls",
          "model_name": "DescriptionStyleModel",
          "model_module_version": "1.5.0",
          "state": {
            "_model_module": "@jupyter-widgets/controls",
            "_model_module_version": "1.5.0",
            "_model_name": "DescriptionStyleModel",
            "_view_count": null,
            "_view_module": "@jupyter-widgets/base",
            "_view_module_version": "1.2.0",
            "_view_name": "StyleView",
            "description_width": ""
          }
        },
        "a4699da8a4934c4e8cd60410e352a1a3": {
          "model_module": "@jupyter-widgets/controls",
          "model_name": "HBoxModel",
          "model_module_version": "1.5.0",
          "state": {
            "_dom_classes": [],
            "_model_module": "@jupyter-widgets/controls",
            "_model_module_version": "1.5.0",
            "_model_name": "HBoxModel",
            "_view_count": null,
            "_view_module": "@jupyter-widgets/controls",
            "_view_module_version": "1.5.0",
            "_view_name": "HBoxView",
            "box_style": "",
            "children": [
              "IPY_MODEL_bd5ab8028c4c47ac8e62d514ab7eb528",
              "IPY_MODEL_c1c8ccb751764a2db6727dee5c193b4c",
              "IPY_MODEL_0134dccd8f1049e9821f0a8873bf76fd"
            ],
            "layout": "IPY_MODEL_e0e292b3262e49f6bcac3ff1978a61b9"
          }
        },
        "bd5ab8028c4c47ac8e62d514ab7eb528": {
          "model_module": "@jupyter-widgets/controls",
          "model_name": "HTMLModel",
          "model_module_version": "1.5.0",
          "state": {
            "_dom_classes": [],
            "_model_module": "@jupyter-widgets/controls",
            "_model_module_version": "1.5.0",
            "_model_name": "HTMLModel",
            "_view_count": null,
            "_view_module": "@jupyter-widgets/controls",
            "_view_module_version": "1.5.0",
            "_view_name": "HTMLView",
            "description": "",
            "description_tooltip": null,
            "layout": "IPY_MODEL_a68787f047ca4096b0f3a4befa2d2250",
            "placeholder": "​",
            "style": "IPY_MODEL_8a9a3a5227b0410abd96f0461ad03d55",
            "value": "100%"
          }
        },
        "c1c8ccb751764a2db6727dee5c193b4c": {
          "model_module": "@jupyter-widgets/controls",
          "model_name": "FloatProgressModel",
          "model_module_version": "1.5.0",
          "state": {
            "_dom_classes": [],
            "_model_module": "@jupyter-widgets/controls",
            "_model_module_version": "1.5.0",
            "_model_name": "FloatProgressModel",
            "_view_count": null,
            "_view_module": "@jupyter-widgets/controls",
            "_view_module_version": "1.5.0",
            "_view_name": "ProgressView",
            "bar_style": "success",
            "description": "",
            "description_tooltip": null,
            "layout": "IPY_MODEL_56fa7f5aaf3a4d59a9ae9bf92676776a",
            "max": 29515,
            "min": 0,
            "orientation": "horizontal",
            "style": "IPY_MODEL_319896bb0ed949f88338dcf3403c94b3",
            "value": 29515
          }
        },
        "0134dccd8f1049e9821f0a8873bf76fd": {
          "model_module": "@jupyter-widgets/controls",
          "model_name": "HTMLModel",
          "model_module_version": "1.5.0",
          "state": {
            "_dom_classes": [],
            "_model_module": "@jupyter-widgets/controls",
            "_model_module_version": "1.5.0",
            "_model_name": "HTMLModel",
            "_view_count": null,
            "_view_module": "@jupyter-widgets/controls",
            "_view_module_version": "1.5.0",
            "_view_name": "HTMLView",
            "description": "",
            "description_tooltip": null,
            "layout": "IPY_MODEL_6af0507eaaf8405a804cf31da97b080d",
            "placeholder": "​",
            "style": "IPY_MODEL_00dfa0d706124c86aec80a9930a8ec74",
            "value": " 29515/29515 [00:00&lt;00:00, 199428.56it/s]"
          }
        },
        "e0e292b3262e49f6bcac3ff1978a61b9": {
          "model_module": "@jupyter-widgets/base",
          "model_name": "LayoutModel",
          "model_module_version": "1.2.0",
          "state": {
            "_model_module": "@jupyter-widgets/base",
            "_model_module_version": "1.2.0",
            "_model_name": "LayoutModel",
            "_view_count": null,
            "_view_module": "@jupyter-widgets/base",
            "_view_module_version": "1.2.0",
            "_view_name": "LayoutView",
            "align_content": null,
            "align_items": null,
            "align_self": null,
            "border": null,
            "bottom": null,
            "display": null,
            "flex": null,
            "flex_flow": null,
            "grid_area": null,
            "grid_auto_columns": null,
            "grid_auto_flow": null,
            "grid_auto_rows": null,
            "grid_column": null,
            "grid_gap": null,
            "grid_row": null,
            "grid_template_areas": null,
            "grid_template_columns": null,
            "grid_template_rows": null,
            "height": null,
            "justify_content": null,
            "justify_items": null,
            "left": null,
            "margin": null,
            "max_height": null,
            "max_width": null,
            "min_height": null,
            "min_width": null,
            "object_fit": null,
            "object_position": null,
            "order": null,
            "overflow": null,
            "overflow_x": null,
            "overflow_y": null,
            "padding": null,
            "right": null,
            "top": null,
            "visibility": null,
            "width": null
          }
        },
        "a68787f047ca4096b0f3a4befa2d2250": {
          "model_module": "@jupyter-widgets/base",
          "model_name": "LayoutModel",
          "model_module_version": "1.2.0",
          "state": {
            "_model_module": "@jupyter-widgets/base",
            "_model_module_version": "1.2.0",
            "_model_name": "LayoutModel",
            "_view_count": null,
            "_view_module": "@jupyter-widgets/base",
            "_view_module_version": "1.2.0",
            "_view_name": "LayoutView",
            "align_content": null,
            "align_items": null,
            "align_self": null,
            "border": null,
            "bottom": null,
            "display": null,
            "flex": null,
            "flex_flow": null,
            "grid_area": null,
            "grid_auto_columns": null,
            "grid_auto_flow": null,
            "grid_auto_rows": null,
            "grid_column": null,
            "grid_gap": null,
            "grid_row": null,
            "grid_template_areas": null,
            "grid_template_columns": null,
            "grid_template_rows": null,
            "height": null,
            "justify_content": null,
            "justify_items": null,
            "left": null,
            "margin": null,
            "max_height": null,
            "max_width": null,
            "min_height": null,
            "min_width": null,
            "object_fit": null,
            "object_position": null,
            "order": null,
            "overflow": null,
            "overflow_x": null,
            "overflow_y": null,
            "padding": null,
            "right": null,
            "top": null,
            "visibility": null,
            "width": null
          }
        },
        "8a9a3a5227b0410abd96f0461ad03d55": {
          "model_module": "@jupyter-widgets/controls",
          "model_name": "DescriptionStyleModel",
          "model_module_version": "1.5.0",
          "state": {
            "_model_module": "@jupyter-widgets/controls",
            "_model_module_version": "1.5.0",
            "_model_name": "DescriptionStyleModel",
            "_view_count": null,
            "_view_module": "@jupyter-widgets/base",
            "_view_module_version": "1.2.0",
            "_view_name": "StyleView",
            "description_width": ""
          }
        },
        "56fa7f5aaf3a4d59a9ae9bf92676776a": {
          "model_module": "@jupyter-widgets/base",
          "model_name": "LayoutModel",
          "model_module_version": "1.2.0",
          "state": {
            "_model_module": "@jupyter-widgets/base",
            "_model_module_version": "1.2.0",
            "_model_name": "LayoutModel",
            "_view_count": null,
            "_view_module": "@jupyter-widgets/base",
            "_view_module_version": "1.2.0",
            "_view_name": "LayoutView",
            "align_content": null,
            "align_items": null,
            "align_self": null,
            "border": null,
            "bottom": null,
            "display": null,
            "flex": null,
            "flex_flow": null,
            "grid_area": null,
            "grid_auto_columns": null,
            "grid_auto_flow": null,
            "grid_auto_rows": null,
            "grid_column": null,
            "grid_gap": null,
            "grid_row": null,
            "grid_template_areas": null,
            "grid_template_columns": null,
            "grid_template_rows": null,
            "height": null,
            "justify_content": null,
            "justify_items": null,
            "left": null,
            "margin": null,
            "max_height": null,
            "max_width": null,
            "min_height": null,
            "min_width": null,
            "object_fit": null,
            "object_position": null,
            "order": null,
            "overflow": null,
            "overflow_x": null,
            "overflow_y": null,
            "padding": null,
            "right": null,
            "top": null,
            "visibility": null,
            "width": null
          }
        },
        "319896bb0ed949f88338dcf3403c94b3": {
          "model_module": "@jupyter-widgets/controls",
          "model_name": "ProgressStyleModel",
          "model_module_version": "1.5.0",
          "state": {
            "_model_module": "@jupyter-widgets/controls",
            "_model_module_version": "1.5.0",
            "_model_name": "ProgressStyleModel",
            "_view_count": null,
            "_view_module": "@jupyter-widgets/base",
            "_view_module_version": "1.2.0",
            "_view_name": "StyleView",
            "bar_color": null,
            "description_width": ""
          }
        },
        "6af0507eaaf8405a804cf31da97b080d": {
          "model_module": "@jupyter-widgets/base",
          "model_name": "LayoutModel",
          "model_module_version": "1.2.0",
          "state": {
            "_model_module": "@jupyter-widgets/base",
            "_model_module_version": "1.2.0",
            "_model_name": "LayoutModel",
            "_view_count": null,
            "_view_module": "@jupyter-widgets/base",
            "_view_module_version": "1.2.0",
            "_view_name": "LayoutView",
            "align_content": null,
            "align_items": null,
            "align_self": null,
            "border": null,
            "bottom": null,
            "display": null,
            "flex": null,
            "flex_flow": null,
            "grid_area": null,
            "grid_auto_columns": null,
            "grid_auto_flow": null,
            "grid_auto_rows": null,
            "grid_column": null,
            "grid_gap": null,
            "grid_row": null,
            "grid_template_areas": null,
            "grid_template_columns": null,
            "grid_template_rows": null,
            "height": null,
            "justify_content": null,
            "justify_items": null,
            "left": null,
            "margin": null,
            "max_height": null,
            "max_width": null,
            "min_height": null,
            "min_width": null,
            "object_fit": null,
            "object_position": null,
            "order": null,
            "overflow": null,
            "overflow_x": null,
            "overflow_y": null,
            "padding": null,
            "right": null,
            "top": null,
            "visibility": null,
            "width": null
          }
        },
        "00dfa0d706124c86aec80a9930a8ec74": {
          "model_module": "@jupyter-widgets/controls",
          "model_name": "DescriptionStyleModel",
          "model_module_version": "1.5.0",
          "state": {
            "_model_module": "@jupyter-widgets/controls",
            "_model_module_version": "1.5.0",
            "_model_name": "DescriptionStyleModel",
            "_view_count": null,
            "_view_module": "@jupyter-widgets/base",
            "_view_module_version": "1.2.0",
            "_view_name": "StyleView",
            "description_width": ""
          }
        },
        "02d3fdee73a4491081dc00bebac08247": {
          "model_module": "@jupyter-widgets/controls",
          "model_name": "HBoxModel",
          "model_module_version": "1.5.0",
          "state": {
            "_dom_classes": [],
            "_model_module": "@jupyter-widgets/controls",
            "_model_module_version": "1.5.0",
            "_model_name": "HBoxModel",
            "_view_count": null,
            "_view_module": "@jupyter-widgets/controls",
            "_view_module_version": "1.5.0",
            "_view_name": "HBoxView",
            "box_style": "",
            "children": [
              "IPY_MODEL_12512eb3949e4f09b9b7d64e8ac43eed",
              "IPY_MODEL_acd745b5160643629aaa9975171b4fbd",
              "IPY_MODEL_87b251ab4e084a56a24ec7517bfb039c"
            ],
            "layout": "IPY_MODEL_ee2f2b0839774ac2b8bc3d52e6fc48d6"
          }
        },
        "12512eb3949e4f09b9b7d64e8ac43eed": {
          "model_module": "@jupyter-widgets/controls",
          "model_name": "HTMLModel",
          "model_module_version": "1.5.0",
          "state": {
            "_dom_classes": [],
            "_model_module": "@jupyter-widgets/controls",
            "_model_module_version": "1.5.0",
            "_model_name": "HTMLModel",
            "_view_count": null,
            "_view_module": "@jupyter-widgets/controls",
            "_view_module_version": "1.5.0",
            "_view_name": "HTMLView",
            "description": "",
            "description_tooltip": null,
            "layout": "IPY_MODEL_abaf95bbf662420f9fae49b1667c9f57",
            "placeholder": "​",
            "style": "IPY_MODEL_f1fc1ce72d414cee8c7625ac02791a58",
            "value": "100%"
          }
        },
        "acd745b5160643629aaa9975171b4fbd": {
          "model_module": "@jupyter-widgets/controls",
          "model_name": "FloatProgressModel",
          "model_module_version": "1.5.0",
          "state": {
            "_dom_classes": [],
            "_model_module": "@jupyter-widgets/controls",
            "_model_module_version": "1.5.0",
            "_model_name": "FloatProgressModel",
            "_view_count": null,
            "_view_module": "@jupyter-widgets/controls",
            "_view_module_version": "1.5.0",
            "_view_name": "ProgressView",
            "bar_style": "success",
            "description": "",
            "description_tooltip": null,
            "layout": "IPY_MODEL_379ebb0c33a442739a3a6838ce44fad9",
            "max": 4422102,
            "min": 0,
            "orientation": "horizontal",
            "style": "IPY_MODEL_21973e69261847ce98f88fc80393107e",
            "value": 4422102
          }
        },
        "87b251ab4e084a56a24ec7517bfb039c": {
          "model_module": "@jupyter-widgets/controls",
          "model_name": "HTMLModel",
          "model_module_version": "1.5.0",
          "state": {
            "_dom_classes": [],
            "_model_module": "@jupyter-widgets/controls",
            "_model_module_version": "1.5.0",
            "_model_name": "HTMLModel",
            "_view_count": null,
            "_view_module": "@jupyter-widgets/controls",
            "_view_module_version": "1.5.0",
            "_view_name": "HTMLView",
            "description": "",
            "description_tooltip": null,
            "layout": "IPY_MODEL_5abab8f6d6fd4b6088c030552907925c",
            "placeholder": "​",
            "style": "IPY_MODEL_55e31cd3824742c4abbbf78182f12b89",
            "value": " 4422102/4422102 [00:01&lt;00:00, 6304407.73it/s]"
          }
        },
        "ee2f2b0839774ac2b8bc3d52e6fc48d6": {
          "model_module": "@jupyter-widgets/base",
          "model_name": "LayoutModel",
          "model_module_version": "1.2.0",
          "state": {
            "_model_module": "@jupyter-widgets/base",
            "_model_module_version": "1.2.0",
            "_model_name": "LayoutModel",
            "_view_count": null,
            "_view_module": "@jupyter-widgets/base",
            "_view_module_version": "1.2.0",
            "_view_name": "LayoutView",
            "align_content": null,
            "align_items": null,
            "align_self": null,
            "border": null,
            "bottom": null,
            "display": null,
            "flex": null,
            "flex_flow": null,
            "grid_area": null,
            "grid_auto_columns": null,
            "grid_auto_flow": null,
            "grid_auto_rows": null,
            "grid_column": null,
            "grid_gap": null,
            "grid_row": null,
            "grid_template_areas": null,
            "grid_template_columns": null,
            "grid_template_rows": null,
            "height": null,
            "justify_content": null,
            "justify_items": null,
            "left": null,
            "margin": null,
            "max_height": null,
            "max_width": null,
            "min_height": null,
            "min_width": null,
            "object_fit": null,
            "object_position": null,
            "order": null,
            "overflow": null,
            "overflow_x": null,
            "overflow_y": null,
            "padding": null,
            "right": null,
            "top": null,
            "visibility": null,
            "width": null
          }
        },
        "abaf95bbf662420f9fae49b1667c9f57": {
          "model_module": "@jupyter-widgets/base",
          "model_name": "LayoutModel",
          "model_module_version": "1.2.0",
          "state": {
            "_model_module": "@jupyter-widgets/base",
            "_model_module_version": "1.2.0",
            "_model_name": "LayoutModel",
            "_view_count": null,
            "_view_module": "@jupyter-widgets/base",
            "_view_module_version": "1.2.0",
            "_view_name": "LayoutView",
            "align_content": null,
            "align_items": null,
            "align_self": null,
            "border": null,
            "bottom": null,
            "display": null,
            "flex": null,
            "flex_flow": null,
            "grid_area": null,
            "grid_auto_columns": null,
            "grid_auto_flow": null,
            "grid_auto_rows": null,
            "grid_column": null,
            "grid_gap": null,
            "grid_row": null,
            "grid_template_areas": null,
            "grid_template_columns": null,
            "grid_template_rows": null,
            "height": null,
            "justify_content": null,
            "justify_items": null,
            "left": null,
            "margin": null,
            "max_height": null,
            "max_width": null,
            "min_height": null,
            "min_width": null,
            "object_fit": null,
            "object_position": null,
            "order": null,
            "overflow": null,
            "overflow_x": null,
            "overflow_y": null,
            "padding": null,
            "right": null,
            "top": null,
            "visibility": null,
            "width": null
          }
        },
        "f1fc1ce72d414cee8c7625ac02791a58": {
          "model_module": "@jupyter-widgets/controls",
          "model_name": "DescriptionStyleModel",
          "model_module_version": "1.5.0",
          "state": {
            "_model_module": "@jupyter-widgets/controls",
            "_model_module_version": "1.5.0",
            "_model_name": "DescriptionStyleModel",
            "_view_count": null,
            "_view_module": "@jupyter-widgets/base",
            "_view_module_version": "1.2.0",
            "_view_name": "StyleView",
            "description_width": ""
          }
        },
        "379ebb0c33a442739a3a6838ce44fad9": {
          "model_module": "@jupyter-widgets/base",
          "model_name": "LayoutModel",
          "model_module_version": "1.2.0",
          "state": {
            "_model_module": "@jupyter-widgets/base",
            "_model_module_version": "1.2.0",
            "_model_name": "LayoutModel",
            "_view_count": null,
            "_view_module": "@jupyter-widgets/base",
            "_view_module_version": "1.2.0",
            "_view_name": "LayoutView",
            "align_content": null,
            "align_items": null,
            "align_self": null,
            "border": null,
            "bottom": null,
            "display": null,
            "flex": null,
            "flex_flow": null,
            "grid_area": null,
            "grid_auto_columns": null,
            "grid_auto_flow": null,
            "grid_auto_rows": null,
            "grid_column": null,
            "grid_gap": null,
            "grid_row": null,
            "grid_template_areas": null,
            "grid_template_columns": null,
            "grid_template_rows": null,
            "height": null,
            "justify_content": null,
            "justify_items": null,
            "left": null,
            "margin": null,
            "max_height": null,
            "max_width": null,
            "min_height": null,
            "min_width": null,
            "object_fit": null,
            "object_position": null,
            "order": null,
            "overflow": null,
            "overflow_x": null,
            "overflow_y": null,
            "padding": null,
            "right": null,
            "top": null,
            "visibility": null,
            "width": null
          }
        },
        "21973e69261847ce98f88fc80393107e": {
          "model_module": "@jupyter-widgets/controls",
          "model_name": "ProgressStyleModel",
          "model_module_version": "1.5.0",
          "state": {
            "_model_module": "@jupyter-widgets/controls",
            "_model_module_version": "1.5.0",
            "_model_name": "ProgressStyleModel",
            "_view_count": null,
            "_view_module": "@jupyter-widgets/base",
            "_view_module_version": "1.2.0",
            "_view_name": "StyleView",
            "bar_color": null,
            "description_width": ""
          }
        },
        "5abab8f6d6fd4b6088c030552907925c": {
          "model_module": "@jupyter-widgets/base",
          "model_name": "LayoutModel",
          "model_module_version": "1.2.0",
          "state": {
            "_model_module": "@jupyter-widgets/base",
            "_model_module_version": "1.2.0",
            "_model_name": "LayoutModel",
            "_view_count": null,
            "_view_module": "@jupyter-widgets/base",
            "_view_module_version": "1.2.0",
            "_view_name": "LayoutView",
            "align_content": null,
            "align_items": null,
            "align_self": null,
            "border": null,
            "bottom": null,
            "display": null,
            "flex": null,
            "flex_flow": null,
            "grid_area": null,
            "grid_auto_columns": null,
            "grid_auto_flow": null,
            "grid_auto_rows": null,
            "grid_column": null,
            "grid_gap": null,
            "grid_row": null,
            "grid_template_areas": null,
            "grid_template_columns": null,
            "grid_template_rows": null,
            "height": null,
            "justify_content": null,
            "justify_items": null,
            "left": null,
            "margin": null,
            "max_height": null,
            "max_width": null,
            "min_height": null,
            "min_width": null,
            "object_fit": null,
            "object_position": null,
            "order": null,
            "overflow": null,
            "overflow_x": null,
            "overflow_y": null,
            "padding": null,
            "right": null,
            "top": null,
            "visibility": null,
            "width": null
          }
        },
        "55e31cd3824742c4abbbf78182f12b89": {
          "model_module": "@jupyter-widgets/controls",
          "model_name": "DescriptionStyleModel",
          "model_module_version": "1.5.0",
          "state": {
            "_model_module": "@jupyter-widgets/controls",
            "_model_module_version": "1.5.0",
            "_model_name": "DescriptionStyleModel",
            "_view_count": null,
            "_view_module": "@jupyter-widgets/base",
            "_view_module_version": "1.2.0",
            "_view_name": "StyleView",
            "description_width": ""
          }
        },
        "f9e9a856e05c42229ac0f41b8f3514e7": {
          "model_module": "@jupyter-widgets/controls",
          "model_name": "HBoxModel",
          "model_module_version": "1.5.0",
          "state": {
            "_dom_classes": [],
            "_model_module": "@jupyter-widgets/controls",
            "_model_module_version": "1.5.0",
            "_model_name": "HBoxModel",
            "_view_count": null,
            "_view_module": "@jupyter-widgets/controls",
            "_view_module_version": "1.5.0",
            "_view_name": "HBoxView",
            "box_style": "",
            "children": [
              "IPY_MODEL_e234f80f2a0e4ad584fcab30a1a7c59d",
              "IPY_MODEL_a7e24a68e5df4023a113834a275940c6",
              "IPY_MODEL_a4f8fc1ebc29479e8cc9a88b0042ec91"
            ],
            "layout": "IPY_MODEL_701d67f0f9ea44d39dbab8a9d82d108f"
          }
        },
        "e234f80f2a0e4ad584fcab30a1a7c59d": {
          "model_module": "@jupyter-widgets/controls",
          "model_name": "HTMLModel",
          "model_module_version": "1.5.0",
          "state": {
            "_dom_classes": [],
            "_model_module": "@jupyter-widgets/controls",
            "_model_module_version": "1.5.0",
            "_model_name": "HTMLModel",
            "_view_count": null,
            "_view_module": "@jupyter-widgets/controls",
            "_view_module_version": "1.5.0",
            "_view_name": "HTMLView",
            "description": "",
            "description_tooltip": null,
            "layout": "IPY_MODEL_7144868389304d2286a5ee2d196bdcf6",
            "placeholder": "​",
            "style": "IPY_MODEL_02ce4760d455478d86f82cb92b19b351",
            "value": "100%"
          }
        },
        "a7e24a68e5df4023a113834a275940c6": {
          "model_module": "@jupyter-widgets/controls",
          "model_name": "FloatProgressModel",
          "model_module_version": "1.5.0",
          "state": {
            "_dom_classes": [],
            "_model_module": "@jupyter-widgets/controls",
            "_model_module_version": "1.5.0",
            "_model_name": "FloatProgressModel",
            "_view_count": null,
            "_view_module": "@jupyter-widgets/controls",
            "_view_module_version": "1.5.0",
            "_view_name": "ProgressView",
            "bar_style": "success",
            "description": "",
            "description_tooltip": null,
            "layout": "IPY_MODEL_f71ec1e85cba4283ac321748257b90d7",
            "max": 5148,
            "min": 0,
            "orientation": "horizontal",
            "style": "IPY_MODEL_c92b0f1c907c4898a4251e43d811b312",
            "value": 5148
          }
        },
        "a4f8fc1ebc29479e8cc9a88b0042ec91": {
          "model_module": "@jupyter-widgets/controls",
          "model_name": "HTMLModel",
          "model_module_version": "1.5.0",
          "state": {
            "_dom_classes": [],
            "_model_module": "@jupyter-widgets/controls",
            "_model_module_version": "1.5.0",
            "_model_name": "HTMLModel",
            "_view_count": null,
            "_view_module": "@jupyter-widgets/controls",
            "_view_module_version": "1.5.0",
            "_view_name": "HTMLView",
            "description": "",
            "description_tooltip": null,
            "layout": "IPY_MODEL_ded8948ece94402482592e44b8d6cef2",
            "placeholder": "​",
            "style": "IPY_MODEL_1be4a1b73e134808992f53cff1fa6bbd",
            "value": " 5148/5148 [00:00&lt;00:00, 109018.32it/s]"
          }
        },
        "701d67f0f9ea44d39dbab8a9d82d108f": {
          "model_module": "@jupyter-widgets/base",
          "model_name": "LayoutModel",
          "model_module_version": "1.2.0",
          "state": {
            "_model_module": "@jupyter-widgets/base",
            "_model_module_version": "1.2.0",
            "_model_name": "LayoutModel",
            "_view_count": null,
            "_view_module": "@jupyter-widgets/base",
            "_view_module_version": "1.2.0",
            "_view_name": "LayoutView",
            "align_content": null,
            "align_items": null,
            "align_self": null,
            "border": null,
            "bottom": null,
            "display": null,
            "flex": null,
            "flex_flow": null,
            "grid_area": null,
            "grid_auto_columns": null,
            "grid_auto_flow": null,
            "grid_auto_rows": null,
            "grid_column": null,
            "grid_gap": null,
            "grid_row": null,
            "grid_template_areas": null,
            "grid_template_columns": null,
            "grid_template_rows": null,
            "height": null,
            "justify_content": null,
            "justify_items": null,
            "left": null,
            "margin": null,
            "max_height": null,
            "max_width": null,
            "min_height": null,
            "min_width": null,
            "object_fit": null,
            "object_position": null,
            "order": null,
            "overflow": null,
            "overflow_x": null,
            "overflow_y": null,
            "padding": null,
            "right": null,
            "top": null,
            "visibility": null,
            "width": null
          }
        },
        "7144868389304d2286a5ee2d196bdcf6": {
          "model_module": "@jupyter-widgets/base",
          "model_name": "LayoutModel",
          "model_module_version": "1.2.0",
          "state": {
            "_model_module": "@jupyter-widgets/base",
            "_model_module_version": "1.2.0",
            "_model_name": "LayoutModel",
            "_view_count": null,
            "_view_module": "@jupyter-widgets/base",
            "_view_module_version": "1.2.0",
            "_view_name": "LayoutView",
            "align_content": null,
            "align_items": null,
            "align_self": null,
            "border": null,
            "bottom": null,
            "display": null,
            "flex": null,
            "flex_flow": null,
            "grid_area": null,
            "grid_auto_columns": null,
            "grid_auto_flow": null,
            "grid_auto_rows": null,
            "grid_column": null,
            "grid_gap": null,
            "grid_row": null,
            "grid_template_areas": null,
            "grid_template_columns": null,
            "grid_template_rows": null,
            "height": null,
            "justify_content": null,
            "justify_items": null,
            "left": null,
            "margin": null,
            "max_height": null,
            "max_width": null,
            "min_height": null,
            "min_width": null,
            "object_fit": null,
            "object_position": null,
            "order": null,
            "overflow": null,
            "overflow_x": null,
            "overflow_y": null,
            "padding": null,
            "right": null,
            "top": null,
            "visibility": null,
            "width": null
          }
        },
        "02ce4760d455478d86f82cb92b19b351": {
          "model_module": "@jupyter-widgets/controls",
          "model_name": "DescriptionStyleModel",
          "model_module_version": "1.5.0",
          "state": {
            "_model_module": "@jupyter-widgets/controls",
            "_model_module_version": "1.5.0",
            "_model_name": "DescriptionStyleModel",
            "_view_count": null,
            "_view_module": "@jupyter-widgets/base",
            "_view_module_version": "1.2.0",
            "_view_name": "StyleView",
            "description_width": ""
          }
        },
        "f71ec1e85cba4283ac321748257b90d7": {
          "model_module": "@jupyter-widgets/base",
          "model_name": "LayoutModel",
          "model_module_version": "1.2.0",
          "state": {
            "_model_module": "@jupyter-widgets/base",
            "_model_module_version": "1.2.0",
            "_model_name": "LayoutModel",
            "_view_count": null,
            "_view_module": "@jupyter-widgets/base",
            "_view_module_version": "1.2.0",
            "_view_name": "LayoutView",
            "align_content": null,
            "align_items": null,
            "align_self": null,
            "border": null,
            "bottom": null,
            "display": null,
            "flex": null,
            "flex_flow": null,
            "grid_area": null,
            "grid_auto_columns": null,
            "grid_auto_flow": null,
            "grid_auto_rows": null,
            "grid_column": null,
            "grid_gap": null,
            "grid_row": null,
            "grid_template_areas": null,
            "grid_template_columns": null,
            "grid_template_rows": null,
            "height": null,
            "justify_content": null,
            "justify_items": null,
            "left": null,
            "margin": null,
            "max_height": null,
            "max_width": null,
            "min_height": null,
            "min_width": null,
            "object_fit": null,
            "object_position": null,
            "order": null,
            "overflow": null,
            "overflow_x": null,
            "overflow_y": null,
            "padding": null,
            "right": null,
            "top": null,
            "visibility": null,
            "width": null
          }
        },
        "c92b0f1c907c4898a4251e43d811b312": {
          "model_module": "@jupyter-widgets/controls",
          "model_name": "ProgressStyleModel",
          "model_module_version": "1.5.0",
          "state": {
            "_model_module": "@jupyter-widgets/controls",
            "_model_module_version": "1.5.0",
            "_model_name": "ProgressStyleModel",
            "_view_count": null,
            "_view_module": "@jupyter-widgets/base",
            "_view_module_version": "1.2.0",
            "_view_name": "StyleView",
            "bar_color": null,
            "description_width": ""
          }
        },
        "ded8948ece94402482592e44b8d6cef2": {
          "model_module": "@jupyter-widgets/base",
          "model_name": "LayoutModel",
          "model_module_version": "1.2.0",
          "state": {
            "_model_module": "@jupyter-widgets/base",
            "_model_module_version": "1.2.0",
            "_model_name": "LayoutModel",
            "_view_count": null,
            "_view_module": "@jupyter-widgets/base",
            "_view_module_version": "1.2.0",
            "_view_name": "LayoutView",
            "align_content": null,
            "align_items": null,
            "align_self": null,
            "border": null,
            "bottom": null,
            "display": null,
            "flex": null,
            "flex_flow": null,
            "grid_area": null,
            "grid_auto_columns": null,
            "grid_auto_flow": null,
            "grid_auto_rows": null,
            "grid_column": null,
            "grid_gap": null,
            "grid_row": null,
            "grid_template_areas": null,
            "grid_template_columns": null,
            "grid_template_rows": null,
            "height": null,
            "justify_content": null,
            "justify_items": null,
            "left": null,
            "margin": null,
            "max_height": null,
            "max_width": null,
            "min_height": null,
            "min_width": null,
            "object_fit": null,
            "object_position": null,
            "order": null,
            "overflow": null,
            "overflow_x": null,
            "overflow_y": null,
            "padding": null,
            "right": null,
            "top": null,
            "visibility": null,
            "width": null
          }
        },
        "1be4a1b73e134808992f53cff1fa6bbd": {
          "model_module": "@jupyter-widgets/controls",
          "model_name": "DescriptionStyleModel",
          "model_module_version": "1.5.0",
          "state": {
            "_model_module": "@jupyter-widgets/controls",
            "_model_module_version": "1.5.0",
            "_model_name": "DescriptionStyleModel",
            "_view_count": null,
            "_view_module": "@jupyter-widgets/base",
            "_view_module_version": "1.2.0",
            "_view_name": "StyleView",
            "description_width": ""
          }
        }
      }
    }
  },
  "cells": [
    {
      "cell_type": "markdown",
      "metadata": {
        "id": "view-in-github",
        "colab_type": "text"
      },
      "source": [
        "<a href=\"https://colab.research.google.com/github/jocelynzhao3/fashion-mnist/blob/master/Jocelyn_Zhao_Fashion_MNIST_Final_Project.ipynb\" target=\"_parent\"><img src=\"https://colab.research.google.com/assets/colab-badge.svg\" alt=\"Open In Colab\"/></a>"
      ]
    },
    {
      "cell_type": "markdown",
      "source": [
        "Fashion MNIST Final Project\n",
        "1. Write code [done]\n",
        "2. Change aspects until most effective"
      ],
      "metadata": {
        "id": "UyPhaX84DR9R"
      }
    },
    {
      "cell_type": "markdown",
      "source": [
        "Import libraries"
      ],
      "metadata": {
        "id": "VVnXY_TrqzVN"
      }
    },
    {
      "cell_type": "code",
      "execution_count": 1,
      "metadata": {
        "id": "r7B8XN-nlxuB"
      },
      "outputs": [],
      "source": [
        "import math\n",
        "import numpy as np\n",
        "\n",
        "import torch\n",
        "from torch import nn, optim, cuda\n",
        "from torch.autograd import Variable\n",
        "from torch.utils.data import DataLoader\n",
        "from torch.optim.lr_scheduler import StepLR\n",
        "import torch.nn.functional as F\n",
        "\n",
        "import torchvision\n",
        "from torchvision import datasets, transforms\n",
        "\n",
        "### how to use GPU on mac???\n",
        "use_gpu=True\n",
        "if cuda.is_available():\n",
        "    # check if GPU is available\n",
        "    print(cuda.get_device_properties(0))\n",
        "\n",
        "# for visualization\n",
        "import matplotlib.pyplot as plt\n",
        "%matplotlib inline"
      ]
    },
    {
      "cell_type": "markdown",
      "source": [
        "Download dataset"
      ],
      "metadata": {
        "id": "NwY6Ct4_q6-i"
      }
    },
    {
      "cell_type": "code",
      "source": [
        "####### preparing transforming functions - how do these affect results?\n",
        "# data_tf=transforms.Compose([transforms.ToTensor(), transforms.Normalize([0.5],[0.5])])\n",
        "data_tf=transforms.Compose([transforms.ToTensor(), transforms.Normalize((0.1307,), (0.3081,))])\n",
        "\n",
        "# download datasets\n",
        "train_dataset = datasets.FashionMNIST(root='...', train=True, transform=data_tf, download=True)\n",
        "test_dataset = datasets.FashionMNIST(root='...', train=False, transform=data_tf, download=True)\n",
        "#does anything go in the root string? - just download and dont worry abt it\n",
        "\n"
      ],
      "metadata": {
        "id": "JAEFVLiXwI7v",
        "colab": {
          "base_uri": "https://localhost:8080/",
          "height": 417,
          "referenced_widgets": [
            "518b2605d99f420ea1c7ad99c0e4d6d9",
            "25f00ad67c3b488c8e27ea5576c24e1a",
            "4392d09582fd4853aa0ba61c3c0abecc",
            "d8742f97f3dd4074a046d1f1c2eb82e1",
            "22d04fc265024f309a67757b8a1cb2f2",
            "7805778a428b49d38e7009b3fd779b49",
            "dad30eda6ee24c77aa07ddda4d4636b6",
            "7f7bf9d28dae4c61b80b3b30e62476f1",
            "e54aa6e377524ba09ed6f8e4bfb4dafd",
            "8d8ffb7d6ac1433faf70984d16243e2d",
            "b396ccd3aaf04d2085ee9afd52917f65",
            "a4699da8a4934c4e8cd60410e352a1a3",
            "bd5ab8028c4c47ac8e62d514ab7eb528",
            "c1c8ccb751764a2db6727dee5c193b4c",
            "0134dccd8f1049e9821f0a8873bf76fd",
            "e0e292b3262e49f6bcac3ff1978a61b9",
            "a68787f047ca4096b0f3a4befa2d2250",
            "8a9a3a5227b0410abd96f0461ad03d55",
            "56fa7f5aaf3a4d59a9ae9bf92676776a",
            "319896bb0ed949f88338dcf3403c94b3",
            "6af0507eaaf8405a804cf31da97b080d",
            "00dfa0d706124c86aec80a9930a8ec74",
            "02d3fdee73a4491081dc00bebac08247",
            "12512eb3949e4f09b9b7d64e8ac43eed",
            "acd745b5160643629aaa9975171b4fbd",
            "87b251ab4e084a56a24ec7517bfb039c",
            "ee2f2b0839774ac2b8bc3d52e6fc48d6",
            "abaf95bbf662420f9fae49b1667c9f57",
            "f1fc1ce72d414cee8c7625ac02791a58",
            "379ebb0c33a442739a3a6838ce44fad9",
            "21973e69261847ce98f88fc80393107e",
            "5abab8f6d6fd4b6088c030552907925c",
            "55e31cd3824742c4abbbf78182f12b89",
            "f9e9a856e05c42229ac0f41b8f3514e7",
            "e234f80f2a0e4ad584fcab30a1a7c59d",
            "a7e24a68e5df4023a113834a275940c6",
            "a4f8fc1ebc29479e8cc9a88b0042ec91",
            "701d67f0f9ea44d39dbab8a9d82d108f",
            "7144868389304d2286a5ee2d196bdcf6",
            "02ce4760d455478d86f82cb92b19b351",
            "f71ec1e85cba4283ac321748257b90d7",
            "c92b0f1c907c4898a4251e43d811b312",
            "ded8948ece94402482592e44b8d6cef2",
            "1be4a1b73e134808992f53cff1fa6bbd"
          ]
        },
        "outputId": "f8aa7736-346d-4e0a-fa2f-a60448c7026d"
      },
      "execution_count": 2,
      "outputs": [
        {
          "output_type": "stream",
          "name": "stdout",
          "text": [
            "Downloading http://fashion-mnist.s3-website.eu-central-1.amazonaws.com/train-images-idx3-ubyte.gz\n",
            "Downloading http://fashion-mnist.s3-website.eu-central-1.amazonaws.com/train-images-idx3-ubyte.gz to .../FashionMNIST/raw/train-images-idx3-ubyte.gz\n"
          ]
        },
        {
          "output_type": "display_data",
          "data": {
            "text/plain": [
              "  0%|          | 0/26421880 [00:00<?, ?it/s]"
            ],
            "application/vnd.jupyter.widget-view+json": {
              "version_major": 2,
              "version_minor": 0,
              "model_id": "518b2605d99f420ea1c7ad99c0e4d6d9"
            }
          },
          "metadata": {}
        },
        {
          "output_type": "stream",
          "name": "stdout",
          "text": [
            "Extracting .../FashionMNIST/raw/train-images-idx3-ubyte.gz to .../FashionMNIST/raw\n",
            "\n",
            "Downloading http://fashion-mnist.s3-website.eu-central-1.amazonaws.com/train-labels-idx1-ubyte.gz\n",
            "Downloading http://fashion-mnist.s3-website.eu-central-1.amazonaws.com/train-labels-idx1-ubyte.gz to .../FashionMNIST/raw/train-labels-idx1-ubyte.gz\n"
          ]
        },
        {
          "output_type": "display_data",
          "data": {
            "text/plain": [
              "  0%|          | 0/29515 [00:00<?, ?it/s]"
            ],
            "application/vnd.jupyter.widget-view+json": {
              "version_major": 2,
              "version_minor": 0,
              "model_id": "a4699da8a4934c4e8cd60410e352a1a3"
            }
          },
          "metadata": {}
        },
        {
          "output_type": "stream",
          "name": "stdout",
          "text": [
            "Extracting .../FashionMNIST/raw/train-labels-idx1-ubyte.gz to .../FashionMNIST/raw\n",
            "\n",
            "Downloading http://fashion-mnist.s3-website.eu-central-1.amazonaws.com/t10k-images-idx3-ubyte.gz\n",
            "Downloading http://fashion-mnist.s3-website.eu-central-1.amazonaws.com/t10k-images-idx3-ubyte.gz to .../FashionMNIST/raw/t10k-images-idx3-ubyte.gz\n"
          ]
        },
        {
          "output_type": "display_data",
          "data": {
            "text/plain": [
              "  0%|          | 0/4422102 [00:00<?, ?it/s]"
            ],
            "application/vnd.jupyter.widget-view+json": {
              "version_major": 2,
              "version_minor": 0,
              "model_id": "02d3fdee73a4491081dc00bebac08247"
            }
          },
          "metadata": {}
        },
        {
          "output_type": "stream",
          "name": "stdout",
          "text": [
            "Extracting .../FashionMNIST/raw/t10k-images-idx3-ubyte.gz to .../FashionMNIST/raw\n",
            "\n",
            "Downloading http://fashion-mnist.s3-website.eu-central-1.amazonaws.com/t10k-labels-idx1-ubyte.gz\n",
            "Downloading http://fashion-mnist.s3-website.eu-central-1.amazonaws.com/t10k-labels-idx1-ubyte.gz to .../FashionMNIST/raw/t10k-labels-idx1-ubyte.gz\n"
          ]
        },
        {
          "output_type": "display_data",
          "data": {
            "text/plain": [
              "  0%|          | 0/5148 [00:00<?, ?it/s]"
            ],
            "application/vnd.jupyter.widget-view+json": {
              "version_major": 2,
              "version_minor": 0,
              "model_id": "f9e9a856e05c42229ac0f41b8f3514e7"
            }
          },
          "metadata": {}
        },
        {
          "output_type": "stream",
          "name": "stdout",
          "text": [
            "Extracting .../FashionMNIST/raw/t10k-labels-idx1-ubyte.gz to .../FashionMNIST/raw\n",
            "\n"
          ]
        }
      ]
    },
    {
      "cell_type": "markdown",
      "source": [
        "Load datasets"
      ],
      "metadata": {
        "id": "BO-Xj1dg_IQo"
      }
    },
    {
      "cell_type": "code",
      "source": [
        "# data loader\n",
        "batch_size=64\n",
        "#######how does batch size affect result? power of 2\n",
        "train_loader = DataLoader(train_dataset, batch_size=batch_size, shuffle=True)\n",
        "test_loader = DataLoader(test_dataset, batch_size=batch_size, shuffle=False)"
      ],
      "metadata": {
        "id": "06uthSAB_K6a"
      },
      "execution_count": 64,
      "outputs": []
    },
    {
      "cell_type": "markdown",
      "source": [
        "Display sample pictures from the dataset"
      ],
      "metadata": {
        "id": "nmj3PLrJ_WmC"
      }
    },
    {
      "cell_type": "code",
      "source": [
        "sample_loader = DataLoader(test_dataset, batch_size=batch_size, shuffle=False)\n",
        "data=iter(sample_loader)\n",
        "samples,sample_labels=data.next()\n",
        "\n",
        "row_num=8 # if batch_size=64, plot matrix as 8x8\n",
        "column_num=int(batch_size/row_num)\n",
        "\n",
        "\n",
        "fig, axes = plt.subplots(row_num, column_num, figsize=(8, 8),\n",
        "                         subplot_kw={'xticks':[], 'yticks':[]},\n",
        "                         gridspec_kw=dict(hspace=0.1, wspace=0.1))\n",
        "\n",
        "for i, ax in enumerate(axes.flat):\n",
        "    ax.imshow(samples[i][0], cmap='Greys', interpolation='nearest')\n",
        "    ax.text(0.1, 0.1, sample_labels[i].numpy(), transform=ax.transAxes, color='green')"
      ],
      "metadata": {
        "colab": {
          "base_uri": "https://localhost:8080/",
          "height": 469
        },
        "id": "3H-vU4Dd_c4J",
        "outputId": "095c8701-a9ce-418d-cbfa-5d3a5c059d58"
      },
      "execution_count": 65,
      "outputs": [
        {
          "output_type": "display_data",
          "data": {
            "text/plain": [
              "<Figure size 576x576 with 64 Axes>"
            ],
            "image/png": "[encoded data removed]"
          },
          "metadata": {}
        }
      ]
    },
    {
      "cell_type": "markdown",
      "source": [
        "Define a deep neural network"
      ],
      "metadata": {
        "id": "lGwLA9wtBhuZ"
      }
    },
    {
      "cell_type": "code",
      "source": [
        "class CNNExample(nn.Module):\n",
        "    \"\"\"\n",
        "    from: https://pytorch.org/tutorials/recipes/recipes/defining_a_neural_network.html\n",
        "    \"\"\"\n",
        "    def __init__(self):\n",
        "        super(CNNExample, self).__init__()\n",
        "        \n",
        "        # First 2D convolutional layer, taking in 1 input channel (grayscale image),\n",
        "        # outputting 32 convolutional features, with a square kernel size of 3\n",
        "        self.conv1 = nn.Conv2d(1, 32, 3, 1)\n",
        "        # Second 2D convolutional layer, taking in the 32 input layers,\n",
        "        # outputting 64 convolutional features, with a square kernel size of 3\n",
        "        self.conv2 = nn.Conv2d(32, 64, 3, 1)\n",
        "\n",
        "        # Designed to ensure that adjacent pixels are either all 0s or all active\n",
        "        # with an input probability\n",
        "        self.dropout1 = nn.Dropout2d(0.25)\n",
        "        self.dropout2 = nn.Dropout2d(0.5)\n",
        "\n",
        "        # First fully connected layer\n",
        "        self.fc1 = nn.Linear(9216, 128)\n",
        "        # Second fully connected layer that outputs our 10 labels\n",
        "        self.fc2 = nn.Linear(128, 10)\n",
        "    \n",
        "    def forward(self, x):\n",
        "        x = self.conv1(x) # conv layer 1\n",
        "        x = F.relu(x) # activation function\n",
        "        x = self.conv2(x) # conv layer 2\n",
        "        x = F.max_pool2d(x, 2) # pool layer\n",
        "        x = self.dropout1(x) # dropout layer 1\n",
        "        x = torch.flatten(x, 1) # flatten layer \n",
        "        x = self.fc1(x) # full connection layer 1\n",
        "        x = F.relu(x) # activation function\n",
        "        x = self.dropout2(x) # dropout layer 2\n",
        "        x = self.fc2(x) # full connection layer 2\n",
        "        output = F.log_softmax(x, dim=1) # output use softmax function\n",
        "        return output"
      ],
      "metadata": {
        "id": "uE3gLfqHBkXs"
      },
      "execution_count": 56,
      "outputs": []
    },
    {
      "cell_type": "markdown",
      "source": [
        "Train the model"
      ],
      "metadata": {
        "id": "bGnwh0h8BwX3"
      }
    },
    {
      "cell_type": "code",
      "source": [
        "##########training############\n",
        "def train_model(model, train_loader, criterion, optimizer, num_epochs):\n",
        "    model.train()\n",
        "    for epoch in range(num_epochs):\n",
        "        train_loss=0\n",
        "        for data in train_loader:\n",
        "            img, label = data\n",
        "            #img = img.view(img.size(0),-1)\n",
        "            if use_gpu and cuda.is_available(): #if use_gpu switch is on\n",
        "                img=Variable(img).cuda()\n",
        "                label=Variable(label).cuda()\n",
        "            else:\n",
        "                img=Variable(img)\n",
        "                label=Variable(label)\n",
        "            ##forward training\n",
        "            out = model(img)\n",
        "            loss = criterion(out, label)\n",
        "            #loss=F.nll_loss(out,label)\n",
        "            train_loss += loss.data*label.size(0)\n",
        "            #print(loss.data)\n",
        "            #print(label.size(0))\n",
        "            train_loss+=loss.item()\n",
        "            # backward propagation\n",
        "            optimizer.zero_grad()\n",
        "            loss.backward()\n",
        "            optimizer.step()\n",
        "        #scheduler.step()\n",
        "        if (epoch+1)%(num_epochs/10) ==0:\n",
        "            print(f'Epoch {epoch+1}/{num_epochs}, eval_loss={train_loss/(len(test_dataset))}')\n",
        "    return model\n"
      ],
      "metadata": {
        "id": "PGtMSS05Bx8L"
      },
      "execution_count": 57,
      "outputs": []
    },
    {
      "cell_type": "markdown",
      "source": [
        "Test the model"
      ],
      "metadata": {
        "id": "tpqOX8xBB9GO"
      }
    },
    {
      "cell_type": "code",
      "source": [
        "##########testing##########\n",
        "def test_model(model, criterion, test_loader):\n",
        "    eval_loss=0\n",
        "    eval_acc=0\n",
        "    #use evaluation model\n",
        "    model.eval()\n",
        "    for data in test_loader:\n",
        "        img, label = data\n",
        "        #img = img.view(img.size(0),-1)\n",
        "        if use_gpu and cuda.is_available(): #if use_gpu switch is on\n",
        "            img=Variable(img).cuda()\n",
        "            label=Variable(label).cuda()\n",
        "        else:\n",
        "            img=Variable(img)\n",
        "            label=Variable(label)\n",
        "        out = model(img)\n",
        "        loss = criterion(out, label)\n",
        "        eval_loss += loss.data*label.size(0)\n",
        "        _, pred = torch.max(out, 1) #???\n",
        "        num_correct = (pred==label).sum()\n",
        "        eval_acc += num_correct.data\n",
        "        #print('pred: {}, label: {}, num_correct: {}'.format(pred, label, num_correct))\n",
        "    loss=eval_loss/(len(test_dataset))\n",
        "    accuracy=eval_acc*1.0/(len(test_dataset))\n",
        "    print(f'Test Loss: {loss}, Acc: {accuracy}')\n",
        "    return loss, accuracy\n"
      ],
      "metadata": {
        "id": "JUzs4K0YB-Dd"
      },
      "execution_count": 58,
      "outputs": []
    },
    {
      "cell_type": "markdown",
      "source": [
        "Put together"
      ],
      "metadata": {
        "id": "5DdF8jM6CDSS"
      }
    },
    {
      "cell_type": "code",
      "source": [
        "%%time\n",
        "\n",
        "#gpu switch on/off\n",
        "use_gpu=False\n",
        "\n",
        "# # define model\n",
        "# model=CNN()\n",
        "model=CNNExample()\n",
        "# model = CNN2()\n",
        "# print(model)\n",
        "\n",
        "if use_gpu and cuda.is_available():\n",
        "    print(f'using GPU: {cuda.get_device_properties(0)}')\n",
        "    model=model.cuda()\n",
        "else:\n",
        "    print('using CPU')\n",
        "    model=model.cpu()\n",
        "    \n",
        "# learning rate\n",
        "learning_rate=0.1\n",
        "#learning_rate=1\n",
        "    \n",
        "#---optimizer for training the neural network---\n",
        "# use Adadelta optimizer: https://pytorch.org/docs/stable/generated/torch.optim.Adadelta.html\n",
        "optimizer=optim.Adadelta(model.parameters(), lr=learning_rate)\n",
        "##---uncomment the following lines to try out different optimizers---\n",
        "#optimizer=optim.Adagrad(model.parameters(), lr=learning_rate)\n",
        "#optimizer=optim.Adam(model.parameters(), lr=learning_rate)\n",
        "#optimizer=optim.SGD(model.parameters(), lr=learning_rate)\n",
        "\n",
        "\n",
        "#---criterion is the cost or error function---\n",
        "criterion=nn.CrossEntropyLoss()\n",
        "#criterion=nn.NLLLoss()\n",
        "\n",
        "# #---scheduler---\n",
        "#scheduler = StepLR(optimizer, step_size=1, gamma=0.7) # need by NLLLoss\n",
        "\n",
        "# set number of epochs\n",
        "num_epochs=10\n",
        "\n",
        "# train model\n",
        "model = train_model(model, train_loader, criterion, optimizer, num_epochs)\n",
        "loss, accuracy=test_model(model, criterion, test_loader)\n"
      ],
      "metadata": {
        "colab": {
          "base_uri": "https://localhost:8080/"
        },
        "id": "pI0Cft5jCEhu",
        "outputId": "ba858502-dab1-44d3-bc66-0424ef4cd354"
      },
      "execution_count": 63,
      "outputs": [
        {
          "output_type": "stream",
          "name": "stdout",
          "text": [
            "using CPU\n"
          ]
        },
        {
          "output_type": "stream",
          "name": "stderr",
          "text": [
            "/usr/local/lib/python3.7/dist-packages/torch/nn/functional.py:1331: UserWarning: dropout2d: Received a 2-D input to dropout2d, which is deprecated and will result in an error in a future release. To retain the behavior and silence this warning, please use dropout instead. Note that dropout2d exists to provide channel-wise dropout on inputs with 2 spatial dimensions, a channel dimension, and an optional batch dimension (i.e. 3D or 4D inputs).\n",
            "  warnings.warn(warn_msg)\n"
          ]
        },
        {
          "output_type": "stream",
          "name": "stdout",
          "text": [
            "Epoch 1/10, eval_loss=2.784471035003662\n",
            "Epoch 2/10, eval_loss=1.945194959640503\n",
            "Epoch 3/10, eval_loss=1.7183910608291626\n",
            "Epoch 4/10, eval_loss=1.5429394245147705\n",
            "Epoch 5/10, eval_loss=1.4501848220825195\n",
            "Epoch 6/10, eval_loss=1.3421955108642578\n",
            "Epoch 7/10, eval_loss=1.278543472290039\n",
            "Epoch 8/10, eval_loss=1.2134963274002075\n",
            "Epoch 9/10, eval_loss=1.1682740449905396\n",
            "Epoch 10/10, eval_loss=1.1067731380462646\n",
            "Test Loss: 0.26543503999710083, Acc: 0.9169999957084656\n",
            "CPU times: user 23min 46s, sys: 18.1 s, total: 24min 5s\n",
            "Wall time: 24min\n"
          ]
        }
      ]
    },
    {
      "cell_type": "markdown",
      "source": [
        "Make prediction"
      ],
      "metadata": {
        "id": "6-W4bmN-W0Qr"
      }
    },
    {
      "cell_type": "code",
      "source": [
        "sample_size=batch_size\n",
        "# let shuffle be True to load random images each time\n",
        "sample_loader = DataLoader(test_dataset, batch_size=sample_size, shuffle=True) \n",
        "data=iter(sample_loader)\n",
        "samples,sample_labels=data.next()\n",
        "\n",
        "row_num=8 # if batch_size=64, plot matrix as 8x8\n",
        "column_num=int(batch_size/row_num)\n",
        "\n",
        "# output = model(samples.view(samples.size(0),-1))\n",
        "output=model(samples)\n",
        "_, pred = torch.max(output, 1)\n",
        "\n",
        "# print(sample_labels)\n",
        "# print(pred)\n",
        "\n",
        "fig, axes = plt.subplots(row_num, column_num, figsize=(8, 8),\n",
        "                         subplot_kw={'xticks':[], 'yticks':[]},\n",
        "                         gridspec_kw=dict(hspace=0.1, wspace=0.1))\n",
        "\n",
        "error = 0 # prediction error\n",
        "for i, ax in enumerate(axes.flat):\n",
        "    ax.imshow(samples[i][0], cmap='Greys', interpolation='nearest')\n",
        "    ax.text(0.1, 0.1, sample_labels[i].numpy(), transform=ax.transAxes, color='green')\n",
        "    if sample_labels[i].numpy()==pred[i].numpy():\n",
        "        color_pred='green'\n",
        "    else:\n",
        "        color_pred='red'\n",
        "        error+=1\n",
        "    ax.text(0.8, 0.1, pred[i].numpy(), transform=ax.transAxes, color=color_pred)\n",
        "\n",
        "accuracy_predict=(1-error*1.0/sample_size)*100\n",
        "print(f'Predition Errors: {error} of {sample_size} | Prediction accuracy: {accuracy_predict}%')\n"
      ],
      "metadata": {
        "colab": {
          "base_uri": "https://localhost:8080/",
          "height": 540
        },
        "id": "5ycgnzJtW6eE",
        "outputId": "a11e4281-fc26-418d-d2c7-c6ffaa2626a0"
      },
      "execution_count": 62,
      "outputs": [
        {
          "output_type": "stream",
          "name": "stderr",
          "text": [
            "/usr/local/lib/python3.7/dist-packages/torch/nn/functional.py:1331: UserWarning: dropout2d: Received a 2-D input to dropout2d, which is deprecated and will result in an error in a future release. To retain the behavior and silence this warning, please use dropout instead. Note that dropout2d exists to provide channel-wise dropout on inputs with 2 spatial dimensions, a channel dimension, and an optional batch dimension (i.e. 3D or 4D inputs).\n",
            "  warnings.warn(warn_msg)\n"
          ]
        },
        {
          "output_type": "stream",
          "name": "stdout",
          "text": [
            "Predition Errors: 3 of 32 | Prediction accuracy: 90.625%\n"
          ]
        },
        {
          "output_type": "display_data",
          "data": {
            "text/plain": [
              "<Figure size 576x576 with 32 Axes>"
            ],
            "image/png": "[encoded data removed]"
          },
          "metadata": {}
        }
      ]
    }
  ]
}